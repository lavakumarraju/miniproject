{
 "cells": [
  {
   "cell_type": "code",
   "execution_count": 1,
   "id": "played-monkey",
   "metadata": {},
   "outputs": [],
   "source": [
    "import numpy as np\n",
    "import pandas as pd\n",
    "pd.set_option(\"display.max_columns\", 50)"
   ]
  },
  {
   "cell_type": "code",
   "execution_count": 2,
   "id": "massive-spring",
   "metadata": {},
   "outputs": [],
   "source": [
    "df=pd.read_csv('creditcard.csv')"
   ]
  },
  {
   "cell_type": "code",
   "execution_count": 3,
   "id": "artificial-coupon",
   "metadata": {},
   "outputs": [
    {
     "data": {
      "text/plain": [
       "(284807, 31)"
      ]
     },
     "execution_count": 3,
     "metadata": {},
     "output_type": "execute_result"
    }
   ],
   "source": [
    "df.shape"
   ]
  },
  {
   "cell_type": "code",
   "execution_count": 4,
   "id": "horizontal-oasis",
   "metadata": {},
   "outputs": [],
   "source": [
    "df=df.sample(frac=0.3)"
   ]
  },
  {
   "cell_type": "code",
   "execution_count": 5,
   "id": "varied-iraqi",
   "metadata": {},
   "outputs": [
    {
     "data": {
      "text/html": [
       "<div>\n",
       "<style scoped>\n",
       "    .dataframe tbody tr th:only-of-type {\n",
       "        vertical-align: middle;\n",
       "    }\n",
       "\n",
       "    .dataframe tbody tr th {\n",
       "        vertical-align: top;\n",
       "    }\n",
       "\n",
       "    .dataframe thead th {\n",
       "        text-align: right;\n",
       "    }\n",
       "</style>\n",
       "<table border=\"1\" class=\"dataframe\">\n",
       "  <thead>\n",
       "    <tr style=\"text-align: right;\">\n",
       "      <th></th>\n",
       "      <th>Time</th>\n",
       "      <th>V1</th>\n",
       "      <th>V2</th>\n",
       "      <th>V3</th>\n",
       "      <th>V4</th>\n",
       "      <th>V5</th>\n",
       "      <th>V6</th>\n",
       "      <th>V7</th>\n",
       "      <th>V8</th>\n",
       "      <th>V9</th>\n",
       "      <th>V10</th>\n",
       "      <th>V11</th>\n",
       "      <th>V12</th>\n",
       "      <th>V13</th>\n",
       "      <th>V14</th>\n",
       "      <th>V15</th>\n",
       "      <th>V16</th>\n",
       "      <th>V17</th>\n",
       "      <th>V18</th>\n",
       "      <th>V19</th>\n",
       "      <th>V20</th>\n",
       "      <th>V21</th>\n",
       "      <th>V22</th>\n",
       "      <th>V23</th>\n",
       "      <th>V24</th>\n",
       "      <th>V25</th>\n",
       "      <th>V26</th>\n",
       "      <th>V27</th>\n",
       "      <th>V28</th>\n",
       "      <th>Amount</th>\n",
       "      <th>Class</th>\n",
       "    </tr>\n",
       "  </thead>\n",
       "  <tbody>\n",
       "    <tr>\n",
       "      <th>65599</th>\n",
       "      <td>51660.0</td>\n",
       "      <td>1.341125</td>\n",
       "      <td>-0.623387</td>\n",
       "      <td>0.266612</td>\n",
       "      <td>-0.752746</td>\n",
       "      <td>-0.973363</td>\n",
       "      <td>-0.558557</td>\n",
       "      <td>-0.698878</td>\n",
       "      <td>0.106931</td>\n",
       "      <td>-0.846834</td>\n",
       "      <td>0.849140</td>\n",
       "      <td>1.481860</td>\n",
       "      <td>-0.926999</td>\n",
       "      <td>-2.135813</td>\n",
       "      <td>0.594801</td>\n",
       "      <td>0.426460</td>\n",
       "      <td>0.933857</td>\n",
       "      <td>0.516778</td>\n",
       "      <td>-1.146997</td>\n",
       "      <td>0.390376</td>\n",
       "      <td>-0.115421</td>\n",
       "      <td>0.274898</td>\n",
       "      <td>0.643881</td>\n",
       "      <td>-0.038242</td>\n",
       "      <td>0.199686</td>\n",
       "      <td>0.431265</td>\n",
       "      <td>-0.108563</td>\n",
       "      <td>-0.005363</td>\n",
       "      <td>-0.007200</td>\n",
       "      <td>2.39</td>\n",
       "      <td>0</td>\n",
       "    </tr>\n",
       "    <tr>\n",
       "      <th>100689</th>\n",
       "      <td>67590.0</td>\n",
       "      <td>1.448854</td>\n",
       "      <td>-1.107643</td>\n",
       "      <td>0.388966</td>\n",
       "      <td>-1.286769</td>\n",
       "      <td>-1.641257</td>\n",
       "      <td>-1.026508</td>\n",
       "      <td>-0.904255</td>\n",
       "      <td>-0.223546</td>\n",
       "      <td>-1.754978</td>\n",
       "      <td>1.442340</td>\n",
       "      <td>-0.583566</td>\n",
       "      <td>-1.210821</td>\n",
       "      <td>-0.123435</td>\n",
       "      <td>-0.174286</td>\n",
       "      <td>0.640837</td>\n",
       "      <td>-0.367203</td>\n",
       "      <td>0.545868</td>\n",
       "      <td>0.042633</td>\n",
       "      <td>-0.252111</td>\n",
       "      <td>-0.294544</td>\n",
       "      <td>-0.199579</td>\n",
       "      <td>-0.294272</td>\n",
       "      <td>0.010722</td>\n",
       "      <td>0.359808</td>\n",
       "      <td>0.352945</td>\n",
       "      <td>-0.208576</td>\n",
       "      <td>0.018934</td>\n",
       "      <td>0.026077</td>\n",
       "      <td>50.00</td>\n",
       "      <td>0</td>\n",
       "    </tr>\n",
       "    <tr>\n",
       "      <th>260838</th>\n",
       "      <td>159746.0</td>\n",
       "      <td>-0.991059</td>\n",
       "      <td>1.457985</td>\n",
       "      <td>0.319896</td>\n",
       "      <td>-0.681177</td>\n",
       "      <td>0.858103</td>\n",
       "      <td>0.278567</td>\n",
       "      <td>0.630172</td>\n",
       "      <td>0.420629</td>\n",
       "      <td>-0.962712</td>\n",
       "      <td>-0.449144</td>\n",
       "      <td>-0.319297</td>\n",
       "      <td>0.737241</td>\n",
       "      <td>1.005241</td>\n",
       "      <td>0.431204</td>\n",
       "      <td>-0.428414</td>\n",
       "      <td>0.171410</td>\n",
       "      <td>-0.595223</td>\n",
       "      <td>0.260931</td>\n",
       "      <td>1.798729</td>\n",
       "      <td>0.160650</td>\n",
       "      <td>-0.300236</td>\n",
       "      <td>-0.879555</td>\n",
       "      <td>-0.429982</td>\n",
       "      <td>-1.352771</td>\n",
       "      <td>0.633790</td>\n",
       "      <td>0.531002</td>\n",
       "      <td>-0.037276</td>\n",
       "      <td>0.023383</td>\n",
       "      <td>0.89</td>\n",
       "      <td>0</td>\n",
       "    </tr>\n",
       "    <tr>\n",
       "      <th>84444</th>\n",
       "      <td>60307.0</td>\n",
       "      <td>0.804001</td>\n",
       "      <td>-0.769965</td>\n",
       "      <td>0.900562</td>\n",
       "      <td>0.741939</td>\n",
       "      <td>-0.757199</td>\n",
       "      <td>0.816300</td>\n",
       "      <td>-0.508076</td>\n",
       "      <td>0.295429</td>\n",
       "      <td>0.666500</td>\n",
       "      <td>-0.293944</td>\n",
       "      <td>0.908810</td>\n",
       "      <td>1.697421</td>\n",
       "      <td>0.813203</td>\n",
       "      <td>-0.452746</td>\n",
       "      <td>-0.890510</td>\n",
       "      <td>-0.132802</td>\n",
       "      <td>-0.079156</td>\n",
       "      <td>-0.430136</td>\n",
       "      <td>0.223676</td>\n",
       "      <td>0.268590</td>\n",
       "      <td>-0.045271</td>\n",
       "      <td>-0.196723</td>\n",
       "      <td>-0.121227</td>\n",
       "      <td>-0.223185</td>\n",
       "      <td>0.166576</td>\n",
       "      <td>0.386678</td>\n",
       "      <td>-0.003554</td>\n",
       "      <td>0.036946</td>\n",
       "      <td>171.49</td>\n",
       "      <td>0</td>\n",
       "    </tr>\n",
       "    <tr>\n",
       "      <th>106696</th>\n",
       "      <td>70080.0</td>\n",
       "      <td>1.391282</td>\n",
       "      <td>-0.370237</td>\n",
       "      <td>0.082736</td>\n",
       "      <td>0.582143</td>\n",
       "      <td>-0.580665</td>\n",
       "      <td>-0.177171</td>\n",
       "      <td>-0.421567</td>\n",
       "      <td>-0.009174</td>\n",
       "      <td>-0.416592</td>\n",
       "      <td>0.788066</td>\n",
       "      <td>-2.054547</td>\n",
       "      <td>-1.121096</td>\n",
       "      <td>-1.540978</td>\n",
       "      <td>0.204177</td>\n",
       "      <td>-0.233880</td>\n",
       "      <td>-1.604941</td>\n",
       "      <td>0.043680</td>\n",
       "      <td>1.314498</td>\n",
       "      <td>-0.439864</td>\n",
       "      <td>-0.673081</td>\n",
       "      <td>-0.572620</td>\n",
       "      <td>-1.046724</td>\n",
       "      <td>-0.084430</td>\n",
       "      <td>-0.541996</td>\n",
       "      <td>0.676756</td>\n",
       "      <td>-0.281179</td>\n",
       "      <td>0.037629</td>\n",
       "      <td>0.010243</td>\n",
       "      <td>1.00</td>\n",
       "      <td>0</td>\n",
       "    </tr>\n",
       "  </tbody>\n",
       "</table>\n",
       "</div>"
      ],
      "text/plain": [
       "            Time        V1        V2        V3        V4        V5        V6  \\\n",
       "65599    51660.0  1.341125 -0.623387  0.266612 -0.752746 -0.973363 -0.558557   \n",
       "100689   67590.0  1.448854 -1.107643  0.388966 -1.286769 -1.641257 -1.026508   \n",
       "260838  159746.0 -0.991059  1.457985  0.319896 -0.681177  0.858103  0.278567   \n",
       "84444    60307.0  0.804001 -0.769965  0.900562  0.741939 -0.757199  0.816300   \n",
       "106696   70080.0  1.391282 -0.370237  0.082736  0.582143 -0.580665 -0.177171   \n",
       "\n",
       "              V7        V8        V9       V10       V11       V12       V13  \\\n",
       "65599  -0.698878  0.106931 -0.846834  0.849140  1.481860 -0.926999 -2.135813   \n",
       "100689 -0.904255 -0.223546 -1.754978  1.442340 -0.583566 -1.210821 -0.123435   \n",
       "260838  0.630172  0.420629 -0.962712 -0.449144 -0.319297  0.737241  1.005241   \n",
       "84444  -0.508076  0.295429  0.666500 -0.293944  0.908810  1.697421  0.813203   \n",
       "106696 -0.421567 -0.009174 -0.416592  0.788066 -2.054547 -1.121096 -1.540978   \n",
       "\n",
       "             V14       V15       V16       V17       V18       V19       V20  \\\n",
       "65599   0.594801  0.426460  0.933857  0.516778 -1.146997  0.390376 -0.115421   \n",
       "100689 -0.174286  0.640837 -0.367203  0.545868  0.042633 -0.252111 -0.294544   \n",
       "260838  0.431204 -0.428414  0.171410 -0.595223  0.260931  1.798729  0.160650   \n",
       "84444  -0.452746 -0.890510 -0.132802 -0.079156 -0.430136  0.223676  0.268590   \n",
       "106696  0.204177 -0.233880 -1.604941  0.043680  1.314498 -0.439864 -0.673081   \n",
       "\n",
       "             V21       V22       V23       V24       V25       V26       V27  \\\n",
       "65599   0.274898  0.643881 -0.038242  0.199686  0.431265 -0.108563 -0.005363   \n",
       "100689 -0.199579 -0.294272  0.010722  0.359808  0.352945 -0.208576  0.018934   \n",
       "260838 -0.300236 -0.879555 -0.429982 -1.352771  0.633790  0.531002 -0.037276   \n",
       "84444  -0.045271 -0.196723 -0.121227 -0.223185  0.166576  0.386678 -0.003554   \n",
       "106696 -0.572620 -1.046724 -0.084430 -0.541996  0.676756 -0.281179  0.037629   \n",
       "\n",
       "             V28  Amount  Class  \n",
       "65599  -0.007200    2.39      0  \n",
       "100689  0.026077   50.00      0  \n",
       "260838  0.023383    0.89      0  \n",
       "84444   0.036946  171.49      0  \n",
       "106696  0.010243    1.00      0  "
      ]
     },
     "execution_count": 5,
     "metadata": {},
     "output_type": "execute_result"
    }
   ],
   "source": [
    "df.head()"
   ]
  },
  {
   "cell_type": "code",
   "execution_count": 6,
   "id": "announced-musical",
   "metadata": {},
   "outputs": [
    {
     "data": {
      "text/plain": [
       "Time      0\n",
       "V1        0\n",
       "V2        0\n",
       "V3        0\n",
       "V4        0\n",
       "V5        0\n",
       "V6        0\n",
       "V7        0\n",
       "V8        0\n",
       "V9        0\n",
       "V10       0\n",
       "V11       0\n",
       "V12       0\n",
       "V13       0\n",
       "V14       0\n",
       "V15       0\n",
       "V16       0\n",
       "V17       0\n",
       "V18       0\n",
       "V19       0\n",
       "V20       0\n",
       "V21       0\n",
       "V22       0\n",
       "V23       0\n",
       "V24       0\n",
       "V25       0\n",
       "V26       0\n",
       "V27       0\n",
       "V28       0\n",
       "Amount    0\n",
       "Class     0\n",
       "dtype: int64"
      ]
     },
     "execution_count": 6,
     "metadata": {},
     "output_type": "execute_result"
    }
   ],
   "source": [
    "df.isnull().sum()"
   ]
  },
  {
   "cell_type": "code",
   "execution_count": 7,
   "id": "united-terrorist",
   "metadata": {},
   "outputs": [
    {
     "data": {
      "text/html": [
       "<div>\n",
       "<style scoped>\n",
       "    .dataframe tbody tr th:only-of-type {\n",
       "        vertical-align: middle;\n",
       "    }\n",
       "\n",
       "    .dataframe tbody tr th {\n",
       "        vertical-align: top;\n",
       "    }\n",
       "\n",
       "    .dataframe thead th {\n",
       "        text-align: right;\n",
       "    }\n",
       "</style>\n",
       "<table border=\"1\" class=\"dataframe\">\n",
       "  <thead>\n",
       "    <tr style=\"text-align: right;\">\n",
       "      <th></th>\n",
       "      <th>Time</th>\n",
       "      <th>V1</th>\n",
       "      <th>V2</th>\n",
       "      <th>V3</th>\n",
       "      <th>V4</th>\n",
       "      <th>V5</th>\n",
       "      <th>V6</th>\n",
       "      <th>V7</th>\n",
       "      <th>V8</th>\n",
       "      <th>V9</th>\n",
       "      <th>V10</th>\n",
       "      <th>V11</th>\n",
       "      <th>V12</th>\n",
       "      <th>V13</th>\n",
       "      <th>V14</th>\n",
       "      <th>V15</th>\n",
       "      <th>V16</th>\n",
       "      <th>V17</th>\n",
       "      <th>V18</th>\n",
       "      <th>V19</th>\n",
       "      <th>V20</th>\n",
       "      <th>V21</th>\n",
       "      <th>V22</th>\n",
       "      <th>V23</th>\n",
       "      <th>V24</th>\n",
       "      <th>V25</th>\n",
       "      <th>V26</th>\n",
       "      <th>V27</th>\n",
       "      <th>V28</th>\n",
       "      <th>Amount</th>\n",
       "      <th>Class</th>\n",
       "    </tr>\n",
       "  </thead>\n",
       "  <tbody>\n",
       "    <tr>\n",
       "      <th>count</th>\n",
       "      <td>85442.000000</td>\n",
       "      <td>85442.000000</td>\n",
       "      <td>85442.000000</td>\n",
       "      <td>85442.000000</td>\n",
       "      <td>85442.000000</td>\n",
       "      <td>85442.000000</td>\n",
       "      <td>85442.000000</td>\n",
       "      <td>85442.000000</td>\n",
       "      <td>85442.000000</td>\n",
       "      <td>85442.000000</td>\n",
       "      <td>85442.000000</td>\n",
       "      <td>85442.000000</td>\n",
       "      <td>85442.000000</td>\n",
       "      <td>85442.000000</td>\n",
       "      <td>85442.000000</td>\n",
       "      <td>85442.000000</td>\n",
       "      <td>85442.000000</td>\n",
       "      <td>85442.000000</td>\n",
       "      <td>85442.000000</td>\n",
       "      <td>85442.000000</td>\n",
       "      <td>85442.000000</td>\n",
       "      <td>85442.000000</td>\n",
       "      <td>85442.000000</td>\n",
       "      <td>85442.000000</td>\n",
       "      <td>85442.000000</td>\n",
       "      <td>85442.000000</td>\n",
       "      <td>85442.000000</td>\n",
       "      <td>85442.000000</td>\n",
       "      <td>85442.000000</td>\n",
       "      <td>85442.000000</td>\n",
       "      <td>85442.000000</td>\n",
       "    </tr>\n",
       "    <tr>\n",
       "      <th>mean</th>\n",
       "      <td>94644.738969</td>\n",
       "      <td>0.007496</td>\n",
       "      <td>-0.003759</td>\n",
       "      <td>0.000167</td>\n",
       "      <td>-0.001651</td>\n",
       "      <td>-0.004073</td>\n",
       "      <td>0.003420</td>\n",
       "      <td>-0.005601</td>\n",
       "      <td>-0.008706</td>\n",
       "      <td>-0.000588</td>\n",
       "      <td>0.001413</td>\n",
       "      <td>0.003768</td>\n",
       "      <td>-0.005674</td>\n",
       "      <td>0.000087</td>\n",
       "      <td>-0.001306</td>\n",
       "      <td>0.000666</td>\n",
       "      <td>-0.002481</td>\n",
       "      <td>-0.003518</td>\n",
       "      <td>-0.003235</td>\n",
       "      <td>0.000290</td>\n",
       "      <td>-0.001945</td>\n",
       "      <td>-0.000899</td>\n",
       "      <td>0.002635</td>\n",
       "      <td>-0.002668</td>\n",
       "      <td>0.001123</td>\n",
       "      <td>0.001595</td>\n",
       "      <td>-0.001259</td>\n",
       "      <td>-0.000840</td>\n",
       "      <td>0.000581</td>\n",
       "      <td>88.289475</td>\n",
       "      <td>0.001978</td>\n",
       "    </tr>\n",
       "    <tr>\n",
       "      <th>std</th>\n",
       "      <td>47504.332688</td>\n",
       "      <td>1.946971</td>\n",
       "      <td>1.629583</td>\n",
       "      <td>1.517537</td>\n",
       "      <td>1.419580</td>\n",
       "      <td>1.366879</td>\n",
       "      <td>1.332877</td>\n",
       "      <td>1.224544</td>\n",
       "      <td>1.204706</td>\n",
       "      <td>1.101082</td>\n",
       "      <td>1.095046</td>\n",
       "      <td>1.023176</td>\n",
       "      <td>1.014319</td>\n",
       "      <td>0.996417</td>\n",
       "      <td>0.961580</td>\n",
       "      <td>0.913399</td>\n",
       "      <td>0.888747</td>\n",
       "      <td>0.872940</td>\n",
       "      <td>0.841667</td>\n",
       "      <td>0.813226</td>\n",
       "      <td>0.764900</td>\n",
       "      <td>0.727642</td>\n",
       "      <td>0.724293</td>\n",
       "      <td>0.628733</td>\n",
       "      <td>0.604438</td>\n",
       "      <td>0.522268</td>\n",
       "      <td>0.481328</td>\n",
       "      <td>0.399260</td>\n",
       "      <td>0.332330</td>\n",
       "      <td>241.136978</td>\n",
       "      <td>0.044430</td>\n",
       "    </tr>\n",
       "    <tr>\n",
       "      <th>min</th>\n",
       "      <td>0.000000</td>\n",
       "      <td>-46.855047</td>\n",
       "      <td>-50.383269</td>\n",
       "      <td>-32.454198</td>\n",
       "      <td>-5.683171</td>\n",
       "      <td>-35.182120</td>\n",
       "      <td>-20.869626</td>\n",
       "      <td>-33.239328</td>\n",
       "      <td>-50.943369</td>\n",
       "      <td>-10.842526</td>\n",
       "      <td>-22.187089</td>\n",
       "      <td>-4.568390</td>\n",
       "      <td>-18.553697</td>\n",
       "      <td>-3.888606</td>\n",
       "      <td>-16.337596</td>\n",
       "      <td>-3.936008</td>\n",
       "      <td>-13.563273</td>\n",
       "      <td>-25.162799</td>\n",
       "      <td>-9.498746</td>\n",
       "      <td>-4.619034</td>\n",
       "      <td>-28.009635</td>\n",
       "      <td>-22.757540</td>\n",
       "      <td>-8.887017</td>\n",
       "      <td>-32.828995</td>\n",
       "      <td>-2.836627</td>\n",
       "      <td>-8.696627</td>\n",
       "      <td>-1.778061</td>\n",
       "      <td>-9.895244</td>\n",
       "      <td>-8.656570</td>\n",
       "      <td>0.000000</td>\n",
       "      <td>0.000000</td>\n",
       "    </tr>\n",
       "    <tr>\n",
       "      <th>25%</th>\n",
       "      <td>54111.500000</td>\n",
       "      <td>-0.919824</td>\n",
       "      <td>-0.605557</td>\n",
       "      <td>-0.885615</td>\n",
       "      <td>-0.852802</td>\n",
       "      <td>-0.696225</td>\n",
       "      <td>-0.768476</td>\n",
       "      <td>-0.557456</td>\n",
       "      <td>-0.211999</td>\n",
       "      <td>-0.648080</td>\n",
       "      <td>-0.531299</td>\n",
       "      <td>-0.760660</td>\n",
       "      <td>-0.403523</td>\n",
       "      <td>-0.650299</td>\n",
       "      <td>-0.421410</td>\n",
       "      <td>-0.581503</td>\n",
       "      <td>-0.472723</td>\n",
       "      <td>-0.482597</td>\n",
       "      <td>-0.501816</td>\n",
       "      <td>-0.456486</td>\n",
       "      <td>-0.213228</td>\n",
       "      <td>-0.227951</td>\n",
       "      <td>-0.540928</td>\n",
       "      <td>-0.162471</td>\n",
       "      <td>-0.352748</td>\n",
       "      <td>-0.315066</td>\n",
       "      <td>-0.328081</td>\n",
       "      <td>-0.071069</td>\n",
       "      <td>-0.052962</td>\n",
       "      <td>5.780000</td>\n",
       "      <td>0.000000</td>\n",
       "    </tr>\n",
       "    <tr>\n",
       "      <th>50%</th>\n",
       "      <td>84572.500000</td>\n",
       "      <td>0.029345</td>\n",
       "      <td>0.059649</td>\n",
       "      <td>0.184213</td>\n",
       "      <td>-0.024399</td>\n",
       "      <td>-0.062140</td>\n",
       "      <td>-0.274833</td>\n",
       "      <td>0.037083</td>\n",
       "      <td>0.018447</td>\n",
       "      <td>-0.050655</td>\n",
       "      <td>-0.088484</td>\n",
       "      <td>-0.030229</td>\n",
       "      <td>0.137211</td>\n",
       "      <td>-0.014404</td>\n",
       "      <td>0.051588</td>\n",
       "      <td>0.048290</td>\n",
       "      <td>0.065524</td>\n",
       "      <td>-0.064373</td>\n",
       "      <td>-0.006491</td>\n",
       "      <td>0.005322</td>\n",
       "      <td>-0.062481</td>\n",
       "      <td>-0.028763</td>\n",
       "      <td>0.008016</td>\n",
       "      <td>-0.011749</td>\n",
       "      <td>0.040459</td>\n",
       "      <td>0.019236</td>\n",
       "      <td>-0.054986</td>\n",
       "      <td>0.001142</td>\n",
       "      <td>0.011078</td>\n",
       "      <td>22.315000</td>\n",
       "      <td>0.000000</td>\n",
       "    </tr>\n",
       "    <tr>\n",
       "      <th>75%</th>\n",
       "      <td>139102.250000</td>\n",
       "      <td>1.318689</td>\n",
       "      <td>0.794525</td>\n",
       "      <td>1.025084</td>\n",
       "      <td>0.741571</td>\n",
       "      <td>0.602224</td>\n",
       "      <td>0.406922</td>\n",
       "      <td>0.565243</td>\n",
       "      <td>0.324921</td>\n",
       "      <td>0.600491</td>\n",
       "      <td>0.459838</td>\n",
       "      <td>0.741719</td>\n",
       "      <td>0.616839</td>\n",
       "      <td>0.661843</td>\n",
       "      <td>0.492059</td>\n",
       "      <td>0.651384</td>\n",
       "      <td>0.524986</td>\n",
       "      <td>0.400837</td>\n",
       "      <td>0.501426</td>\n",
       "      <td>0.457167</td>\n",
       "      <td>0.132709</td>\n",
       "      <td>0.187687</td>\n",
       "      <td>0.530380</td>\n",
       "      <td>0.147028</td>\n",
       "      <td>0.438878</td>\n",
       "      <td>0.350731</td>\n",
       "      <td>0.238000</td>\n",
       "      <td>0.090838</td>\n",
       "      <td>0.078127</td>\n",
       "      <td>77.792500</td>\n",
       "      <td>0.000000</td>\n",
       "    </tr>\n",
       "    <tr>\n",
       "      <th>max</th>\n",
       "      <td>172788.000000</td>\n",
       "      <td>2.446505</td>\n",
       "      <td>17.930550</td>\n",
       "      <td>4.226108</td>\n",
       "      <td>13.143668</td>\n",
       "      <td>29.162172</td>\n",
       "      <td>21.550496</td>\n",
       "      <td>36.877368</td>\n",
       "      <td>18.282168</td>\n",
       "      <td>10.370658</td>\n",
       "      <td>15.331742</td>\n",
       "      <td>10.446847</td>\n",
       "      <td>4.574082</td>\n",
       "      <td>4.369998</td>\n",
       "      <td>7.667726</td>\n",
       "      <td>5.825654</td>\n",
       "      <td>8.289890</td>\n",
       "      <td>7.893393</td>\n",
       "      <td>4.115560</td>\n",
       "      <td>5.591971</td>\n",
       "      <td>24.133894</td>\n",
       "      <td>27.202839</td>\n",
       "      <td>7.357255</td>\n",
       "      <td>22.528412</td>\n",
       "      <td>3.957013</td>\n",
       "      <td>7.519589</td>\n",
       "      <td>3.087444</td>\n",
       "      <td>10.135597</td>\n",
       "      <td>22.620072</td>\n",
       "      <td>11898.090000</td>\n",
       "      <td>1.000000</td>\n",
       "    </tr>\n",
       "  </tbody>\n",
       "</table>\n",
       "</div>"
      ],
      "text/plain": [
       "                Time            V1            V2            V3            V4  \\\n",
       "count   85442.000000  85442.000000  85442.000000  85442.000000  85442.000000   \n",
       "mean    94644.738969      0.007496     -0.003759      0.000167     -0.001651   \n",
       "std     47504.332688      1.946971      1.629583      1.517537      1.419580   \n",
       "min         0.000000    -46.855047    -50.383269    -32.454198     -5.683171   \n",
       "25%     54111.500000     -0.919824     -0.605557     -0.885615     -0.852802   \n",
       "50%     84572.500000      0.029345      0.059649      0.184213     -0.024399   \n",
       "75%    139102.250000      1.318689      0.794525      1.025084      0.741571   \n",
       "max    172788.000000      2.446505     17.930550      4.226108     13.143668   \n",
       "\n",
       "                 V5            V6            V7            V8            V9  \\\n",
       "count  85442.000000  85442.000000  85442.000000  85442.000000  85442.000000   \n",
       "mean      -0.004073      0.003420     -0.005601     -0.008706     -0.000588   \n",
       "std        1.366879      1.332877      1.224544      1.204706      1.101082   \n",
       "min      -35.182120    -20.869626    -33.239328    -50.943369    -10.842526   \n",
       "25%       -0.696225     -0.768476     -0.557456     -0.211999     -0.648080   \n",
       "50%       -0.062140     -0.274833      0.037083      0.018447     -0.050655   \n",
       "75%        0.602224      0.406922      0.565243      0.324921      0.600491   \n",
       "max       29.162172     21.550496     36.877368     18.282168     10.370658   \n",
       "\n",
       "                V10           V11           V12           V13           V14  \\\n",
       "count  85442.000000  85442.000000  85442.000000  85442.000000  85442.000000   \n",
       "mean       0.001413      0.003768     -0.005674      0.000087     -0.001306   \n",
       "std        1.095046      1.023176      1.014319      0.996417      0.961580   \n",
       "min      -22.187089     -4.568390    -18.553697     -3.888606    -16.337596   \n",
       "25%       -0.531299     -0.760660     -0.403523     -0.650299     -0.421410   \n",
       "50%       -0.088484     -0.030229      0.137211     -0.014404      0.051588   \n",
       "75%        0.459838      0.741719      0.616839      0.661843      0.492059   \n",
       "max       15.331742     10.446847      4.574082      4.369998      7.667726   \n",
       "\n",
       "                V15           V16           V17           V18           V19  \\\n",
       "count  85442.000000  85442.000000  85442.000000  85442.000000  85442.000000   \n",
       "mean       0.000666     -0.002481     -0.003518     -0.003235      0.000290   \n",
       "std        0.913399      0.888747      0.872940      0.841667      0.813226   \n",
       "min       -3.936008    -13.563273    -25.162799     -9.498746     -4.619034   \n",
       "25%       -0.581503     -0.472723     -0.482597     -0.501816     -0.456486   \n",
       "50%        0.048290      0.065524     -0.064373     -0.006491      0.005322   \n",
       "75%        0.651384      0.524986      0.400837      0.501426      0.457167   \n",
       "max        5.825654      8.289890      7.893393      4.115560      5.591971   \n",
       "\n",
       "                V20           V21           V22           V23           V24  \\\n",
       "count  85442.000000  85442.000000  85442.000000  85442.000000  85442.000000   \n",
       "mean      -0.001945     -0.000899      0.002635     -0.002668      0.001123   \n",
       "std        0.764900      0.727642      0.724293      0.628733      0.604438   \n",
       "min      -28.009635    -22.757540     -8.887017    -32.828995     -2.836627   \n",
       "25%       -0.213228     -0.227951     -0.540928     -0.162471     -0.352748   \n",
       "50%       -0.062481     -0.028763      0.008016     -0.011749      0.040459   \n",
       "75%        0.132709      0.187687      0.530380      0.147028      0.438878   \n",
       "max       24.133894     27.202839      7.357255     22.528412      3.957013   \n",
       "\n",
       "                V25           V26           V27           V28        Amount  \\\n",
       "count  85442.000000  85442.000000  85442.000000  85442.000000  85442.000000   \n",
       "mean       0.001595     -0.001259     -0.000840      0.000581     88.289475   \n",
       "std        0.522268      0.481328      0.399260      0.332330    241.136978   \n",
       "min       -8.696627     -1.778061     -9.895244     -8.656570      0.000000   \n",
       "25%       -0.315066     -0.328081     -0.071069     -0.052962      5.780000   \n",
       "50%        0.019236     -0.054986      0.001142      0.011078     22.315000   \n",
       "75%        0.350731      0.238000      0.090838      0.078127     77.792500   \n",
       "max        7.519589      3.087444     10.135597     22.620072  11898.090000   \n",
       "\n",
       "              Class  \n",
       "count  85442.000000  \n",
       "mean       0.001978  \n",
       "std        0.044430  \n",
       "min        0.000000  \n",
       "25%        0.000000  \n",
       "50%        0.000000  \n",
       "75%        0.000000  \n",
       "max        1.000000  "
      ]
     },
     "execution_count": 7,
     "metadata": {},
     "output_type": "execute_result"
    }
   ],
   "source": [
    "df.describe()"
   ]
  },
  {
   "cell_type": "code",
   "execution_count": 8,
   "id": "exotic-charge",
   "metadata": {},
   "outputs": [
    {
     "name": "stdout",
     "output_type": "stream",
     "text": [
      "<class 'pandas.core.frame.DataFrame'>\n",
      "Int64Index: 85442 entries, 65599 to 58941\n",
      "Data columns (total 31 columns):\n",
      " #   Column  Non-Null Count  Dtype  \n",
      "---  ------  --------------  -----  \n",
      " 0   Time    85442 non-null  float64\n",
      " 1   V1      85442 non-null  float64\n",
      " 2   V2      85442 non-null  float64\n",
      " 3   V3      85442 non-null  float64\n",
      " 4   V4      85442 non-null  float64\n",
      " 5   V5      85442 non-null  float64\n",
      " 6   V6      85442 non-null  float64\n",
      " 7   V7      85442 non-null  float64\n",
      " 8   V8      85442 non-null  float64\n",
      " 9   V9      85442 non-null  float64\n",
      " 10  V10     85442 non-null  float64\n",
      " 11  V11     85442 non-null  float64\n",
      " 12  V12     85442 non-null  float64\n",
      " 13  V13     85442 non-null  float64\n",
      " 14  V14     85442 non-null  float64\n",
      " 15  V15     85442 non-null  float64\n",
      " 16  V16     85442 non-null  float64\n",
      " 17  V17     85442 non-null  float64\n",
      " 18  V18     85442 non-null  float64\n",
      " 19  V19     85442 non-null  float64\n",
      " 20  V20     85442 non-null  float64\n",
      " 21  V21     85442 non-null  float64\n",
      " 22  V22     85442 non-null  float64\n",
      " 23  V23     85442 non-null  float64\n",
      " 24  V24     85442 non-null  float64\n",
      " 25  V25     85442 non-null  float64\n",
      " 26  V26     85442 non-null  float64\n",
      " 27  V27     85442 non-null  float64\n",
      " 28  V28     85442 non-null  float64\n",
      " 29  Amount  85442 non-null  float64\n",
      " 30  Class   85442 non-null  int64  \n",
      "dtypes: float64(30), int64(1)\n",
      "memory usage: 20.9 MB\n"
     ]
    }
   ],
   "source": [
    "df.info()"
   ]
  },
  {
   "cell_type": "code",
   "execution_count": 9,
   "id": "meaning-crystal",
   "metadata": {},
   "outputs": [
    {
     "data": {
      "text/plain": [
       "0    85273\n",
       "1      169\n",
       "Name: Class, dtype: int64"
      ]
     },
     "execution_count": 9,
     "metadata": {},
     "output_type": "execute_result"
    }
   ],
   "source": [
    "df.Class.value_counts()"
   ]
  },
  {
   "cell_type": "code",
   "execution_count": 10,
   "id": "beginning-hammer",
   "metadata": {},
   "outputs": [
    {
     "data": {
      "text/plain": [
       "0    99.802205\n",
       "1     0.197795\n",
       "Name: Class, dtype: float64"
      ]
     },
     "execution_count": 10,
     "metadata": {},
     "output_type": "execute_result"
    }
   ],
   "source": [
    "df.Class.value_counts()*100/df.shape[0]"
   ]
  },
  {
   "cell_type": "code",
   "execution_count": 11,
   "id": "elder-conjunction",
   "metadata": {},
   "outputs": [],
   "source": [
    "import matplotlib.pyplot as plt\n",
    "%matplotlib inline\n",
    "import seaborn as sns"
   ]
  },
  {
   "cell_type": "code",
   "execution_count": 12,
   "id": "laden-elder",
   "metadata": {},
   "outputs": [
    {
     "data": {
      "text/plain": [
       "<AxesSubplot:>"
      ]
     },
     "execution_count": 12,
     "metadata": {},
     "output_type": "execute_result"
    },
    {
     "data": {
      "image/png": "[encoded data removed]",
      "text/plain": [
       "<Figure size 864x576 with 2 Axes>"
      ]
     },
     "metadata": {
      "needs_background": "light"
     },
     "output_type": "display_data"
    }
   ],
   "source": [
    "plt.figure(figsize=(12,8))\n",
    "sns.heatmap(df.corr()) # Heatmap of correlation between columns of ‘df’."
   ]
  },
  {
   "cell_type": "markdown",
   "id": "extreme-conservative",
   "metadata": {},
   "source": [
    "### Local Outlier Factor"
   ]
  },
  {
   "cell_type": "code",
   "execution_count": 260,
   "id": "grand-single",
   "metadata": {},
   "outputs": [],
   "source": [
    "#Fraud Transactions\n",
    "fraud=df[df.Class==1]\n",
    "#Valid Transactions\n",
    "valid=df[df.Class==0]"
   ]
  },
  {
   "cell_type": "code",
   "execution_count": 261,
   "id": "unexpected-theta",
   "metadata": {},
   "outputs": [],
   "source": [
    "anomalies_fraction=len(fraud)/len(df)"
   ]
  },
  {
   "cell_type": "code",
   "execution_count": 262,
   "id": "forty-telescope",
   "metadata": {},
   "outputs": [
    {
     "data": {
      "text/plain": [
       "0.001977949954355001"
      ]
     },
     "execution_count": 262,
     "metadata": {},
     "output_type": "execute_result"
    }
   ],
   "source": [
    "anomalies_fraction"
   ]
  },
  {
   "cell_type": "code",
   "execution_count": 263,
   "id": "incident-throw",
   "metadata": {},
   "outputs": [],
   "source": [
    "#Input data\n",
    "X=df.drop(['Class'],axis=1)\n",
    "y=df.Class"
   ]
  },
  {
   "cell_type": "code",
   "execution_count": 264,
   "id": "metallic-squad",
   "metadata": {},
   "outputs": [],
   "source": [
    "from sklearn.neighbors import LocalOutlierFactor"
   ]
  },
  {
   "cell_type": "code",
   "execution_count": 265,
   "id": "handled-bulgaria",
   "metadata": {},
   "outputs": [],
   "source": [
    "lof=LocalOutlierFactor(n_neighbors=20, contamination=anomalies_fraction)\n",
    "y_pred=lof.fit_predict(X)"
   ]
  },
  {
   "cell_type": "code",
   "execution_count": 266,
   "id": "cubic-annotation",
   "metadata": {},
   "outputs": [],
   "source": [
    "# y_pred=lof.predict(X)"
   ]
  },
  {
   "cell_type": "code",
   "execution_count": 267,
   "id": "tender-behalf",
   "metadata": {},
   "outputs": [
    {
     "data": {
      "text/plain": [
       "array([1, 1, 1, ..., 1, 1, 1])"
      ]
     },
     "execution_count": 267,
     "metadata": {},
     "output_type": "execute_result"
    }
   ],
   "source": [
    "y_pred"
   ]
  },
  {
   "cell_type": "code",
   "execution_count": 268,
   "id": "biological-paste",
   "metadata": {},
   "outputs": [
    {
     "data": {
      "text/plain": [
       "(array([-1,  1]), array([  169, 85273], dtype=int64))"
      ]
     },
     "execution_count": 268,
     "metadata": {},
     "output_type": "execute_result"
    }
   ],
   "source": [
    "np.unique(y_pred, return_counts=True)"
   ]
  },
  {
   "cell_type": "code",
   "execution_count": 269,
   "id": "polar-forum",
   "metadata": {},
   "outputs": [],
   "source": [
    "y_pred[y_pred==1]=0\n",
    "y_pred[y_pred==-1]=1"
   ]
  },
  {
   "cell_type": "code",
   "execution_count": 270,
   "id": "cloudy-weight",
   "metadata": {},
   "outputs": [
    {
     "data": {
      "text/plain": [
       "(array([0, 1]), array([85273,   169], dtype=int64))"
      ]
     },
     "execution_count": 270,
     "metadata": {},
     "output_type": "execute_result"
    }
   ],
   "source": [
    "np.unique(y_pred, return_counts=True)"
   ]
  },
  {
   "cell_type": "code",
   "execution_count": 271,
   "id": "breeding-coast",
   "metadata": {},
   "outputs": [
    {
     "data": {
      "text/plain": [
       "0    85273\n",
       "1      169\n",
       "dtype: int64"
      ]
     },
     "execution_count": 271,
     "metadata": {},
     "output_type": "execute_result"
    }
   ],
   "source": [
    "pd.Series(y_pred).value_counts()"
   ]
  },
  {
   "cell_type": "code",
   "execution_count": 272,
   "id": "dirty-stable",
   "metadata": {},
   "outputs": [],
   "source": [
    "from sklearn.metrics import accuracy_score, classification_report"
   ]
  },
  {
   "cell_type": "code",
   "execution_count": 273,
   "id": "searching-framework",
   "metadata": {},
   "outputs": [],
   "source": [
    "lofac = accuracy_score(y,y_pred)"
   ]
  },
  {
   "cell_type": "code",
   "execution_count": 276,
   "id": "awful-killer",
   "metadata": {},
   "outputs": [],
   "source": [
    "lofre = recall_score(y,y_pred)"
   ]
  },
  {
   "cell_type": "code",
   "execution_count": 275,
   "id": "taken-identifier",
   "metadata": {},
   "outputs": [],
   "source": [
    "lofpre = precision_score(y,y_pred)"
   ]
  },
  {
   "cell_type": "code",
   "execution_count": null,
   "id": "underlying-turtle",
   "metadata": {},
   "outputs": [],
   "source": []
  },
  {
   "cell_type": "code",
   "execution_count": 27,
   "id": "appropriate-pricing",
   "metadata": {},
   "outputs": [
    {
     "name": "stdout",
     "output_type": "stream",
     "text": [
      "              precision    recall  f1-score   support\n",
      "\n",
      "           0   0.998053  0.998053  0.998053     85273\n",
      "           1   0.017751  0.017751  0.017751       169\n",
      "\n",
      "    accuracy                       0.996114     85442\n",
      "   macro avg   0.507902  0.507902  0.507902     85442\n",
      "weighted avg   0.996114  0.996114  0.996114     85442\n",
      "\n"
     ]
    }
   ],
   "source": [
    "print(classification_report(y,y_pred, digits=6))"
   ]
  },
  {
   "cell_type": "code",
   "execution_count": 28,
   "id": "afraid-monaco",
   "metadata": {},
   "outputs": [],
   "source": [
    "from sklearn.metrics import precision_score, recall_score,confusion_matrix,f1_score"
   ]
  },
  {
   "cell_type": "code",
   "execution_count": 29,
   "id": "charitable-finance",
   "metadata": {},
   "outputs": [
    {
     "data": {
      "text/plain": [
       "0.01775147928994083"
      ]
     },
     "execution_count": 29,
     "metadata": {},
     "output_type": "execute_result"
    }
   ],
   "source": [
    "precision_score(y,y_pred)"
   ]
  },
  {
   "cell_type": "code",
   "execution_count": 30,
   "id": "annoying-analyst",
   "metadata": {},
   "outputs": [
    {
     "data": {
      "text/plain": [
       "0.01775147928994083"
      ]
     },
     "execution_count": 30,
     "metadata": {},
     "output_type": "execute_result"
    }
   ],
   "source": [
    "recall_score(y,y_pred)"
   ]
  },
  {
   "cell_type": "code",
   "execution_count": 31,
   "id": "spatial-mailman",
   "metadata": {},
   "outputs": [
    {
     "data": {
      "text/plain": [
       "array([[85107,   166],\n",
       "       [  166,     3]], dtype=int64)"
      ]
     },
     "execution_count": 31,
     "metadata": {},
     "output_type": "execute_result"
    }
   ],
   "source": [
    "confusion_matrix(y,y_pred)"
   ]
  },
  {
   "cell_type": "code",
   "execution_count": 32,
   "id": "important-exclusion",
   "metadata": {},
   "outputs": [
    {
     "data": {
      "text/html": [
       "<div>\n",
       "<style scoped>\n",
       "    .dataframe tbody tr th:only-of-type {\n",
       "        vertical-align: middle;\n",
       "    }\n",
       "\n",
       "    .dataframe tbody tr th {\n",
       "        vertical-align: top;\n",
       "    }\n",
       "\n",
       "    .dataframe thead th {\n",
       "        text-align: right;\n",
       "    }\n",
       "</style>\n",
       "<table border=\"1\" class=\"dataframe\">\n",
       "  <thead>\n",
       "    <tr style=\"text-align: right;\">\n",
       "      <th>Predicted</th>\n",
       "      <th>0</th>\n",
       "      <th>1</th>\n",
       "    </tr>\n",
       "    <tr>\n",
       "      <th>Actual</th>\n",
       "      <th></th>\n",
       "      <th></th>\n",
       "    </tr>\n",
       "  </thead>\n",
       "  <tbody>\n",
       "    <tr>\n",
       "      <th>0</th>\n",
       "      <td>85107</td>\n",
       "      <td>166</td>\n",
       "    </tr>\n",
       "    <tr>\n",
       "      <th>1</th>\n",
       "      <td>166</td>\n",
       "      <td>3</td>\n",
       "    </tr>\n",
       "  </tbody>\n",
       "</table>\n",
       "</div>"
      ],
      "text/plain": [
       "Predicted      0    1\n",
       "Actual               \n",
       "0          85107  166\n",
       "1            166    3"
      ]
     },
     "execution_count": 32,
     "metadata": {},
     "output_type": "execute_result"
    }
   ],
   "source": [
    "pd.crosstab(y,y_pred, rownames=['Actual'], colnames=['Predicted'] )"
   ]
  },
  {
   "cell_type": "markdown",
   "id": "reported-threshold",
   "metadata": {},
   "source": [
    "### Isolation Forest"
   ]
  },
  {
   "cell_type": "code",
   "execution_count": 277,
   "id": "incorrect-celebration",
   "metadata": {},
   "outputs": [],
   "source": [
    "from sklearn.ensemble import IsolationForest"
   ]
  },
  {
   "cell_type": "code",
   "execution_count": 278,
   "id": "choice-nigeria",
   "metadata": {},
   "outputs": [
    {
     "data": {
      "text/plain": [
       "IsolationForest(contamination=0.001977949954355001, max_samples=85442)"
      ]
     },
     "execution_count": 278,
     "metadata": {},
     "output_type": "execute_result"
    }
   ],
   "source": [
    "Iso_Forest=IsolationForest(contamination=anomalies_fraction, max_samples=len(X))\n",
    "Iso_Forest.fit(X)"
   ]
  },
  {
   "cell_type": "code",
   "execution_count": 279,
   "id": "burning-business",
   "metadata": {},
   "outputs": [],
   "source": [
    "y_pred2=Iso_Forest.predict(X)"
   ]
  },
  {
   "cell_type": "code",
   "execution_count": 280,
   "id": "coated-error",
   "metadata": {},
   "outputs": [
    {
     "data": {
      "text/plain": [
       "{-1, 1}"
      ]
     },
     "execution_count": 280,
     "metadata": {},
     "output_type": "execute_result"
    }
   ],
   "source": [
    "set(y_pred2)"
   ]
  },
  {
   "cell_type": "code",
   "execution_count": 281,
   "id": "executive-touch",
   "metadata": {},
   "outputs": [
    {
     "data": {
      "text/plain": [
       "(array([-1,  1]), array([  169, 85273], dtype=int64))"
      ]
     },
     "execution_count": 281,
     "metadata": {},
     "output_type": "execute_result"
    }
   ],
   "source": [
    "np.unique(y_pred2, return_counts=True)"
   ]
  },
  {
   "cell_type": "code",
   "execution_count": 282,
   "id": "determined-fifth",
   "metadata": {},
   "outputs": [],
   "source": [
    "y_pred2[y_pred2==1]=0\n",
    "y_pred2[y_pred2==-1]=1"
   ]
  },
  {
   "cell_type": "code",
   "execution_count": 283,
   "id": "isolated-forty",
   "metadata": {},
   "outputs": [
    {
     "data": {
      "text/plain": [
       "(array([0, 1]), array([85273,   169], dtype=int64))"
      ]
     },
     "execution_count": 283,
     "metadata": {},
     "output_type": "execute_result"
    }
   ],
   "source": [
    "np.unique(y_pred2, return_counts=True)"
   ]
  },
  {
   "cell_type": "code",
   "execution_count": 284,
   "id": "improving-specific",
   "metadata": {},
   "outputs": [
    {
     "data": {
      "text/plain": [
       "array([[85166,   107],\n",
       "       [  107,    62]], dtype=int64)"
      ]
     },
     "execution_count": 284,
     "metadata": {},
     "output_type": "execute_result"
    }
   ],
   "source": [
    "confusion_matrix(y,y_pred2)"
   ]
  },
  {
   "cell_type": "code",
   "execution_count": 285,
   "id": "tamil-cooperative",
   "metadata": {},
   "outputs": [
    {
     "name": "stdout",
     "output_type": "stream",
     "text": [
      "              precision    recall  f1-score   support\n",
      "\n",
      "           0   0.998745  0.998745  0.998745     85273\n",
      "           1   0.366864  0.366864  0.366864       169\n",
      "\n",
      "    accuracy                       0.997495     85442\n",
      "   macro avg   0.682805  0.682805  0.682805     85442\n",
      "weighted avg   0.997495  0.997495  0.997495     85442\n",
      "\n"
     ]
    }
   ],
   "source": [
    "print(classification_report(y,y_pred2,digits=6))"
   ]
  },
  {
   "cell_type": "code",
   "execution_count": 286,
   "id": "hybrid-reynolds",
   "metadata": {},
   "outputs": [
    {
     "data": {
      "text/html": [
       "<div>\n",
       "<style scoped>\n",
       "    .dataframe tbody tr th:only-of-type {\n",
       "        vertical-align: middle;\n",
       "    }\n",
       "\n",
       "    .dataframe tbody tr th {\n",
       "        vertical-align: top;\n",
       "    }\n",
       "\n",
       "    .dataframe thead th {\n",
       "        text-align: right;\n",
       "    }\n",
       "</style>\n",
       "<table border=\"1\" class=\"dataframe\">\n",
       "  <thead>\n",
       "    <tr style=\"text-align: right;\">\n",
       "      <th>Predicted</th>\n",
       "      <th>0</th>\n",
       "      <th>1</th>\n",
       "    </tr>\n",
       "    <tr>\n",
       "      <th>Actual</th>\n",
       "      <th></th>\n",
       "      <th></th>\n",
       "    </tr>\n",
       "  </thead>\n",
       "  <tbody>\n",
       "    <tr>\n",
       "      <th>0</th>\n",
       "      <td>85166</td>\n",
       "      <td>107</td>\n",
       "    </tr>\n",
       "    <tr>\n",
       "      <th>1</th>\n",
       "      <td>107</td>\n",
       "      <td>62</td>\n",
       "    </tr>\n",
       "  </tbody>\n",
       "</table>\n",
       "</div>"
      ],
      "text/plain": [
       "Predicted      0    1\n",
       "Actual               \n",
       "0          85166  107\n",
       "1            107   62"
      ]
     },
     "execution_count": 286,
     "metadata": {},
     "output_type": "execute_result"
    }
   ],
   "source": [
    "pd.crosstab(y,y_pred2, rownames=['Actual'], colnames=['Predicted'])"
   ]
  },
  {
   "cell_type": "code",
   "execution_count": 287,
   "id": "banner-pledge",
   "metadata": {},
   "outputs": [],
   "source": [
    "isofpre = precision_score(y,y_pred2)"
   ]
  },
  {
   "cell_type": "code",
   "execution_count": 288,
   "id": "developing-census",
   "metadata": {},
   "outputs": [],
   "source": [
    "isofre = recall_score(y,y_pred2) "
   ]
  },
  {
   "cell_type": "code",
   "execution_count": 289,
   "id": "noticed-pasta",
   "metadata": {},
   "outputs": [],
   "source": [
    "isofacc =accuracy_score(y,y_pred2)"
   ]
  },
  {
   "cell_type": "code",
   "execution_count": null,
   "id": "global-tension",
   "metadata": {},
   "outputs": [],
   "source": []
  },
  {
   "cell_type": "code",
   "execution_count": null,
   "id": "residential-petersburg",
   "metadata": {},
   "outputs": [],
   "source": []
  },
  {
   "cell_type": "markdown",
   "id": "becoming-scanning",
   "metadata": {},
   "source": [
    "### K Means Clustering"
   ]
  },
  {
   "cell_type": "code",
   "execution_count": 290,
   "id": "opposite-tourist",
   "metadata": {},
   "outputs": [],
   "source": [
    "from sklearn.cluster import KMeans\n",
    "from sklearn.model_selection import train_test_split"
   ]
  },
  {
   "cell_type": "code",
   "execution_count": 291,
   "id": "successful-diameter",
   "metadata": {},
   "outputs": [],
   "source": [
    "# x_train,x_test,y_train,y_test = train_test_split(X,y)"
   ]
  },
  {
   "cell_type": "code",
   "execution_count": 294,
   "id": "surprised-vintage",
   "metadata": {},
   "outputs": [],
   "source": [
    "# kmeans=KMeans(n_clusters=2,random_state=0,algorithm=\"elkan\",max_iter=10000,n_jobs=-1)\n",
    "# kmeans.fit(x_train)\n",
    "# pred=kmeans.predict(x_test)\n",
    "# X = X.drop(['Time'],axis =1)"
   ]
  },
  {
   "cell_type": "code",
   "execution_count": 295,
   "id": "surprised-fishing",
   "metadata": {},
   "outputs": [],
   "source": [
    "kmeans = KMeans(n_clusters=2, init='k-means++',n_jobs = -1)"
   ]
  },
  {
   "cell_type": "code",
   "execution_count": 296,
   "id": "whole-traveler",
   "metadata": {},
   "outputs": [
    {
     "name": "stderr",
     "output_type": "stream",
     "text": [
      "C:\\Users\\YMTS0356\\AppData\\Roaming\\Python\\Python36\\site-packages\\sklearn\\cluster\\_kmeans.py:793: FutureWarning: 'n_jobs' was deprecated in version 0.23 and will be removed in 1.0 (renaming of 0.25).\n",
      "  \" removed in 1.0 (renaming of 0.25).\", FutureWarning)\n"
     ]
    }
   ],
   "source": [
    "model = kmeans.fit(X)"
   ]
  },
  {
   "cell_type": "code",
   "execution_count": 297,
   "id": "every-arbitration",
   "metadata": {},
   "outputs": [],
   "source": [
    "pred = kmeans.predict(X)"
   ]
  },
  {
   "cell_type": "code",
   "execution_count": 298,
   "id": "together-crossing",
   "metadata": {},
   "outputs": [
    {
     "data": {
      "text/plain": [
       "array([0, 0, 0, ..., 0, 0, 0])"
      ]
     },
     "execution_count": 298,
     "metadata": {},
     "output_type": "execute_result"
    }
   ],
   "source": [
    "pred"
   ]
  },
  {
   "cell_type": "code",
   "execution_count": 299,
   "id": "early-qualification",
   "metadata": {},
   "outputs": [
    {
     "data": {
      "text/plain": [
       "(array([0, 1]), array([83707,  1735], dtype=int64))"
      ]
     },
     "execution_count": 299,
     "metadata": {},
     "output_type": "execute_result"
    }
   ],
   "source": [
    "np.unique(pred, return_counts=True)"
   ]
  },
  {
   "cell_type": "code",
   "execution_count": 300,
   "id": "intimate-vinyl",
   "metadata": {},
   "outputs": [
    {
     "data": {
      "text/plain": [
       "0    83707\n",
       "1     1735\n",
       "dtype: int64"
      ]
     },
     "execution_count": 300,
     "metadata": {},
     "output_type": "execute_result"
    }
   ],
   "source": [
    "pd.Series(pred).value_counts()"
   ]
  },
  {
   "cell_type": "code",
   "execution_count": 301,
   "id": "consolidated-stock",
   "metadata": {},
   "outputs": [
    {
     "data": {
      "text/plain": [
       "0.07692307692307693"
      ]
     },
     "execution_count": 301,
     "metadata": {},
     "output_type": "execute_result"
    }
   ],
   "source": [
    "recall_score(y,pred)"
   ]
  },
  {
   "cell_type": "code",
   "execution_count": 302,
   "id": "marked-surgeon",
   "metadata": {},
   "outputs": [
    {
     "data": {
      "text/plain": [
       "0.007492795389048991"
      ]
     },
     "execution_count": 302,
     "metadata": {},
     "output_type": "execute_result"
    }
   ],
   "source": [
    "precision_score(y,pred)"
   ]
  },
  {
   "cell_type": "code",
   "execution_count": 303,
   "id": "sustained-confidence",
   "metadata": {},
   "outputs": [
    {
     "data": {
      "text/plain": [
       "0.013655462184873951"
      ]
     },
     "execution_count": 303,
     "metadata": {},
     "output_type": "execute_result"
    }
   ],
   "source": [
    "f1_score(y,pred)"
   ]
  },
  {
   "cell_type": "code",
   "execution_count": 304,
   "id": "infinite-ready",
   "metadata": {},
   "outputs": [
    {
     "data": {
      "text/plain": [
       "0.9780201774303036"
      ]
     },
     "execution_count": 304,
     "metadata": {},
     "output_type": "execute_result"
    }
   ],
   "source": [
    "accuracy_score(y,pred)"
   ]
  },
  {
   "cell_type": "code",
   "execution_count": 305,
   "id": "becoming-carroll",
   "metadata": {},
   "outputs": [
    {
     "name": "stdout",
     "output_type": "stream",
     "text": [
      "              precision    recall  f1-score   support\n",
      "\n",
      "           0       1.00      0.98      0.99     85273\n",
      "           1       0.01      0.08      0.01       169\n",
      "\n",
      "    accuracy                           0.98     85442\n",
      "   macro avg       0.50      0.53      0.50     85442\n",
      "weighted avg       1.00      0.98      0.99     85442\n",
      "\n"
     ]
    }
   ],
   "source": [
    "print(classification_report(y,pred))"
   ]
  },
  {
   "cell_type": "code",
   "execution_count": 306,
   "id": "pending-instrument",
   "metadata": {},
   "outputs": [
    {
     "data": {
      "text/plain": [
       "array([[83551,  1722],\n",
       "       [  156,    13]], dtype=int64)"
      ]
     },
     "execution_count": 306,
     "metadata": {},
     "output_type": "execute_result"
    }
   ],
   "source": [
    "confusion_matrix(y,pred)"
   ]
  },
  {
   "cell_type": "code",
   "execution_count": 307,
   "id": "fifth-specific",
   "metadata": {},
   "outputs": [
    {
     "data": {
      "text/html": [
       "<div>\n",
       "<style scoped>\n",
       "    .dataframe tbody tr th:only-of-type {\n",
       "        vertical-align: middle;\n",
       "    }\n",
       "\n",
       "    .dataframe tbody tr th {\n",
       "        vertical-align: top;\n",
       "    }\n",
       "\n",
       "    .dataframe thead th {\n",
       "        text-align: right;\n",
       "    }\n",
       "</style>\n",
       "<table border=\"1\" class=\"dataframe\">\n",
       "  <thead>\n",
       "    <tr style=\"text-align: right;\">\n",
       "      <th>Predicted</th>\n",
       "      <th>0</th>\n",
       "      <th>1</th>\n",
       "    </tr>\n",
       "    <tr>\n",
       "      <th>Actual</th>\n",
       "      <th></th>\n",
       "      <th></th>\n",
       "    </tr>\n",
       "  </thead>\n",
       "  <tbody>\n",
       "    <tr>\n",
       "      <th>0</th>\n",
       "      <td>83551</td>\n",
       "      <td>1722</td>\n",
       "    </tr>\n",
       "    <tr>\n",
       "      <th>1</th>\n",
       "      <td>156</td>\n",
       "      <td>13</td>\n",
       "    </tr>\n",
       "  </tbody>\n",
       "</table>\n",
       "</div>"
      ],
      "text/plain": [
       "Predicted      0     1\n",
       "Actual                \n",
       "0          83551  1722\n",
       "1            156    13"
      ]
     },
     "execution_count": 307,
     "metadata": {},
     "output_type": "execute_result"
    }
   ],
   "source": [
    "pd.crosstab(y,pred, rownames=['Actual'], colnames=['Predicted'])"
   ]
  },
  {
   "cell_type": "code",
   "execution_count": 308,
   "id": "equal-governor",
   "metadata": {},
   "outputs": [],
   "source": [
    "kre = recall_score(y,pred)"
   ]
  },
  {
   "cell_type": "code",
   "execution_count": 309,
   "id": "limiting-scale",
   "metadata": {},
   "outputs": [],
   "source": [
    "kpre = precision_score(y,pred)"
   ]
  },
  {
   "cell_type": "code",
   "execution_count": 314,
   "id": "artistic-religious",
   "metadata": {},
   "outputs": [],
   "source": [
    "kacc = accuracy_score(y,pred)"
   ]
  },
  {
   "cell_type": "code",
   "execution_count": 319,
   "id": "listed-corporation",
   "metadata": {},
   "outputs": [],
   "source": [
    "from keras.models import Model, load_model\n",
    "from keras.layers import Input, Dense\n",
    "from keras.callbacks import ModelCheckpoint, TensorBoard\n",
    "from keras import regularizers"
   ]
  },
  {
   "cell_type": "code",
   "execution_count": 320,
   "id": "liberal-physics",
   "metadata": {},
   "outputs": [
    {
     "data": {
      "text/plain": [
       "(68212, 29)"
      ]
     },
     "execution_count": 320,
     "metadata": {},
     "output_type": "execute_result"
    }
   ],
   "source": [
    "df = df.drop(['Time'],axis =1)\n",
    "X_train, X_test = train_test_split(df, test_size=0.2, random_state=42)\n",
    "X_train = X_train[X_train.Class == 0]\n",
    "X_train = X_train.drop(['Class'], axis=1)\n",
    "y_test = X_test['Class']\n",
    "X_test = X_test.drop(['Class'], axis=1)\n",
    "X_train = X_train.values\n",
    "X_test = X_test.values\n",
    "X_train.shape"
   ]
  },
  {
   "cell_type": "code",
   "execution_count": 321,
   "id": "subtle-topic",
   "metadata": {},
   "outputs": [],
   "source": [
    "input_dim = X_train.shape[1]\n",
    "encoding_dim = 14\n",
    "input_layer = Input(shape=(input_dim, ))\n",
    "encoder = Dense(encoding_dim, activation=\"tanh\", \n",
    "                activity_regularizer=regularizers.l1(10e-5))(input_layer)\n",
    "encoder = Dense(int(encoding_dim / 2), activation=\"relu\")(encoder)\n",
    "decoder = Dense(int(encoding_dim / 2), activation='tanh')(encoder)\n",
    "decoder = Dense(input_dim, activation='relu')(decoder)\n",
    "autoencoder = Model(inputs=input_layer, outputs=decoder)"
   ]
  },
  {
   "cell_type": "code",
   "execution_count": 322,
   "id": "hidden-processing",
   "metadata": {},
   "outputs": [
    {
     "name": "stdout",
     "output_type": "stream",
     "text": [
      "Epoch 1/20\n",
      "2132/2132 [==============================] - 2s 1ms/step - loss: 2189.5845 - accuracy: 0.8404 - val_loss: 2308.2825 - val_accuracy: 0.8751\n",
      "Epoch 2/20\n",
      "2132/2132 [==============================] - 2s 1ms/step - loss: 2111.3914 - accuracy: 0.8803 - val_loss: 2234.3691 - val_accuracy: 0.8759\n",
      "Epoch 3/20\n",
      "2132/2132 [==============================] - 2s 1ms/step - loss: 2043.6193 - accuracy: 0.8863 - val_loss: 2169.2666 - val_accuracy: 0.8964\n",
      "Epoch 4/20\n",
      "2132/2132 [==============================] - 2s 1ms/step - loss: 1983.0603 - accuracy: 0.8973 - val_loss: 2109.9031 - val_accuracy: 0.8985\n",
      "Epoch 5/20\n",
      "2132/2132 [==============================] - 2s 1ms/step - loss: 1927.4344 - accuracy: 0.9065 - val_loss: 2055.0947 - val_accuracy: 0.9129\n",
      "Epoch 6/20\n",
      "2132/2132 [==============================] - 2s 1ms/step - loss: 1875.7667 - accuracy: 0.9095 - val_loss: 2004.0077 - val_accuracy: 0.9128\n",
      "Epoch 7/20\n",
      "2132/2132 [==============================] - 2s 1ms/step - loss: 1828.4344 - accuracy: 0.9091 - val_loss: 1957.1812 - val_accuracy: 0.9058\n",
      "Epoch 8/20\n",
      "2132/2132 [==============================] - 2s 1ms/step - loss: 1784.7397 - accuracy: 0.9096 - val_loss: 1913.7142 - val_accuracy: 0.9063\n",
      "Epoch 9/20\n",
      "2132/2132 [==============================] - 2s 1ms/step - loss: 1743.2913 - accuracy: 0.9075 - val_loss: 1872.0707 - val_accuracy: 0.9106\n",
      "Epoch 10/20\n",
      "2132/2132 [==============================] - 2s 1ms/step - loss: 1704.7839 - accuracy: 0.9084 - val_loss: 1833.6177 - val_accuracy: 0.9010\n",
      "Epoch 11/20\n",
      "2132/2132 [==============================] - 2s 1ms/step - loss: 1668.4355 - accuracy: 0.9084 - val_loss: 1796.9208 - val_accuracy: 0.9099\n",
      "Epoch 12/20\n",
      "2132/2132 [==============================] - 2s 1ms/step - loss: 1634.4312 - accuracy: 0.9081 - val_loss: 1762.7410 - val_accuracy: 0.9160\n",
      "Epoch 13/20\n",
      "2132/2132 [==============================] - 2s 1ms/step - loss: 1602.0375 - accuracy: 0.9080 - val_loss: 1729.7974 - val_accuracy: 0.9057\n",
      "Epoch 14/20\n",
      "2132/2132 [==============================] - 2s 1ms/step - loss: 1570.9397 - accuracy: 0.9043 - val_loss: 1698.3336 - val_accuracy: 0.9117\n",
      "Epoch 15/20\n",
      "2132/2132 [==============================] - 2s 1ms/step - loss: 1542.0490 - accuracy: 0.9032 - val_loss: 1669.3097 - val_accuracy: 0.9107\n",
      "Epoch 16/20\n",
      "2132/2132 [==============================] - 2s 1ms/step - loss: 1514.7740 - accuracy: 0.9039 - val_loss: 1641.3784 - val_accuracy: 0.8994\n",
      "Epoch 17/20\n",
      "2132/2132 [==============================] - 2s 1ms/step - loss: 1488.5502 - accuracy: 0.9027 - val_loss: 1614.2600 - val_accuracy: 0.9047\n",
      "Epoch 18/20\n",
      "2132/2132 [==============================] - 2s 1ms/step - loss: 1463.1490 - accuracy: 0.9048 - val_loss: 1588.2805 - val_accuracy: 0.9059\n",
      "Epoch 19/20\n",
      "2132/2132 [==============================] - 2s 1ms/step - loss: 1438.9369 - accuracy: 0.9041 - val_loss: 1563.5552 - val_accuracy: 0.9010\n",
      "Epoch 20/20\n",
      "2132/2132 [==============================] - 2s 1ms/step - loss: 1415.9801 - accuracy: 0.9052 - val_loss: 1539.7538 - val_accuracy: 0.9057\n"
     ]
    }
   ],
   "source": [
    "nb_epoch = 20\n",
    "batch_size = 32\n",
    "autoencoder.compile(optimizer='adam', \n",
    "                    loss='mean_squared_error', \n",
    "                    metrics=['accuracy'])\n",
    "# checkpointer = ModelCheckpoint(filepath=\"model.h5\",\n",
    "#                                verbose=0,\n",
    "#                                save_best_only=True)\n",
    "# tensorboard = TensorBoard(log_dir='./logs',\n",
    "#                           histogram_freq=0,\n",
    "#                           write_graph=True,\n",
    "#                           write_images=True)\n",
    "history = autoencoder.fit(X_train, X_train,\n",
    "                    epochs=nb_epoch,\n",
    "                    batch_size=batch_size,\n",
    "\n",
    "                    validation_data=(X_test, X_test)).history\n"
   ]
  },
  {
   "cell_type": "code",
   "execution_count": 323,
   "id": "olympic-account",
   "metadata": {},
   "outputs": [],
   "source": [
    "predictions = autoencoder.predict(X_test)"
   ]
  },
  {
   "cell_type": "code",
   "execution_count": 324,
   "id": "swedish-airport",
   "metadata": {},
   "outputs": [
    {
     "data": {
      "text/plain": [
       "array([1.9853361e+00, 0.0000000e+00, 0.0000000e+00, 0.0000000e+00,\n",
       "       0.0000000e+00, 0.0000000e+00, 0.0000000e+00, 0.0000000e+00,\n",
       "       2.1429145e+00, 0.0000000e+00, 7.2613585e-01, 0.0000000e+00,\n",
       "       1.3662487e+00, 1.3831248e+00, 9.7876787e-04, 0.0000000e+00,\n",
       "       4.1065168e-01, 0.0000000e+00, 2.0822597e-01, 0.0000000e+00,\n",
       "       0.0000000e+00, 0.0000000e+00, 1.9139573e-01, 0.0000000e+00,\n",
       "       0.0000000e+00, 0.0000000e+00, 0.0000000e+00, 0.0000000e+00,\n",
       "       2.9295206e+01], dtype=float32)"
      ]
     },
     "execution_count": 324,
     "metadata": {},
     "output_type": "execute_result"
    }
   ],
   "source": [
    "predictions[1]"
   ]
  },
  {
   "cell_type": "code",
   "execution_count": 325,
   "id": "defensive-butterfly",
   "metadata": {},
   "outputs": [
    {
     "data": {
      "text/html": [
       "<div>\n",
       "<style scoped>\n",
       "    .dataframe tbody tr th:only-of-type {\n",
       "        vertical-align: middle;\n",
       "    }\n",
       "\n",
       "    .dataframe tbody tr th {\n",
       "        vertical-align: top;\n",
       "    }\n",
       "\n",
       "    .dataframe thead th {\n",
       "        text-align: right;\n",
       "    }\n",
       "</style>\n",
       "<table border=\"1\" class=\"dataframe\">\n",
       "  <thead>\n",
       "    <tr style=\"text-align: right;\">\n",
       "      <th></th>\n",
       "      <th>reconstruction_error</th>\n",
       "      <th>true_class</th>\n",
       "    </tr>\n",
       "  </thead>\n",
       "  <tbody>\n",
       "    <tr>\n",
       "      <th>203568</th>\n",
       "      <td>1.541192</td>\n",
       "      <td>0</td>\n",
       "    </tr>\n",
       "    <tr>\n",
       "      <th>150591</th>\n",
       "      <td>0.687019</td>\n",
       "      <td>0</td>\n",
       "    </tr>\n",
       "    <tr>\n",
       "      <th>91609</th>\n",
       "      <td>0.876718</td>\n",
       "      <td>0</td>\n",
       "    </tr>\n",
       "    <tr>\n",
       "      <th>116271</th>\n",
       "      <td>0.302751</td>\n",
       "      <td>0</td>\n",
       "    </tr>\n",
       "    <tr>\n",
       "      <th>275359</th>\n",
       "      <td>0.633438</td>\n",
       "      <td>0</td>\n",
       "    </tr>\n",
       "    <tr>\n",
       "      <th>...</th>\n",
       "      <td>...</td>\n",
       "      <td>...</td>\n",
       "    </tr>\n",
       "    <tr>\n",
       "      <th>58783</th>\n",
       "      <td>1.279937</td>\n",
       "      <td>0</td>\n",
       "    </tr>\n",
       "    <tr>\n",
       "      <th>17215</th>\n",
       "      <td>0.168236</td>\n",
       "      <td>0</td>\n",
       "    </tr>\n",
       "    <tr>\n",
       "      <th>255492</th>\n",
       "      <td>0.270483</td>\n",
       "      <td>0</td>\n",
       "    </tr>\n",
       "    <tr>\n",
       "      <th>121709</th>\n",
       "      <td>0.606514</td>\n",
       "      <td>0</td>\n",
       "    </tr>\n",
       "    <tr>\n",
       "      <th>177366</th>\n",
       "      <td>0.452902</td>\n",
       "      <td>0</td>\n",
       "    </tr>\n",
       "  </tbody>\n",
       "</table>\n",
       "<p>17089 rows × 2 columns</p>\n",
       "</div>"
      ],
      "text/plain": [
       "        reconstruction_error  true_class\n",
       "203568              1.541192           0\n",
       "150591              0.687019           0\n",
       "91609               0.876718           0\n",
       "116271              0.302751           0\n",
       "275359              0.633438           0\n",
       "...                      ...         ...\n",
       "58783               1.279937           0\n",
       "17215               0.168236           0\n",
       "255492              0.270483           0\n",
       "121709              0.606514           0\n",
       "177366              0.452902           0\n",
       "\n",
       "[17089 rows x 2 columns]"
      ]
     },
     "execution_count": 325,
     "metadata": {},
     "output_type": "execute_result"
    }
   ],
   "source": [
    "mse = np.mean(np.power(X_test - predictions, 2), axis=1)\n",
    "error_df = pd.DataFrame({'reconstruction_error': mse,\n",
    "                        'true_class': y_test})\n",
    "error_df"
   ]
  },
  {
   "cell_type": "code",
   "execution_count": 340,
   "id": "musical-addition",
   "metadata": {},
   "outputs": [],
   "source": [
    "threshold = 10\n",
    "y_pred3 = [1 if e > threshold else 0 for e in error_df.reconstruction_error.values]\n",
    "conf_matrix = confusion_matrix(error_df.true_class, y_pred3)"
   ]
  },
  {
   "cell_type": "code",
   "execution_count": 341,
   "id": "surgical-milwaukee",
   "metadata": {},
   "outputs": [
    {
     "data": {
      "text/plain": [
       "0.9190122300895313"
      ]
     },
     "execution_count": 341,
     "metadata": {},
     "output_type": "execute_result"
    }
   ],
   "source": [
    "aeacc = accuracy_score(error_df.true_class, y_pred3)\n",
    "aeacc"
   ]
  },
  {
   "cell_type": "code",
   "execution_count": 342,
   "id": "sufficient-arrest",
   "metadata": {},
   "outputs": [
    {
     "data": {
      "text/plain": [
       "0.015714285714285715"
      ]
     },
     "execution_count": 342,
     "metadata": {},
     "output_type": "execute_result"
    }
   ],
   "source": [
    "aepre = precision_score(error_df.true_class, y_pred3)\n",
    "aepre"
   ]
  },
  {
   "cell_type": "code",
   "execution_count": 343,
   "id": "theoretical-competition",
   "metadata": {},
   "outputs": [
    {
     "data": {
      "text/plain": [
       "0.7857142857142857"
      ]
     },
     "execution_count": 343,
     "metadata": {},
     "output_type": "execute_result"
    }
   ],
   "source": [
    "aere = recall_score(error_df.true_class, y_pred3)\n",
    "aere"
   ]
  },
  {
   "cell_type": "code",
   "execution_count": 344,
   "id": "norman-soccer",
   "metadata": {},
   "outputs": [
    {
     "data": {
      "text/plain": [
       "0.030812324929971994"
      ]
     },
     "execution_count": 344,
     "metadata": {},
     "output_type": "execute_result"
    }
   ],
   "source": [
    "f1_score(error_df.true_class, y_pred3)"
   ]
  },
  {
   "cell_type": "code",
   "execution_count": 345,
   "id": "capital-fairy",
   "metadata": {},
   "outputs": [
    {
     "data": {
      "text/plain": [
       "array([[15683,  1378],\n",
       "       [    6,    22]], dtype=int64)"
      ]
     },
     "execution_count": 345,
     "metadata": {},
     "output_type": "execute_result"
    }
   ],
   "source": [
    "conf_matrix"
   ]
  },
  {
   "cell_type": "code",
   "execution_count": 346,
   "id": "working-pavilion",
   "metadata": {},
   "outputs": [],
   "source": [
    "# pd.crosstab(error_df.true_class, y_pred, rownames=['Actual'], colnames=['Predicted'])"
   ]
  },
  {
   "cell_type": "code",
   "execution_count": 347,
   "id": "dutch-agenda",
   "metadata": {},
   "outputs": [
    {
     "name": "stdout",
     "output_type": "stream",
     "text": [
      "              precision    recall  f1-score   support\n",
      "\n",
      "           0       1.00      0.92      0.96     17061\n",
      "           1       0.02      0.79      0.03        28\n",
      "\n",
      "    accuracy                           0.92     17089\n",
      "   macro avg       0.51      0.85      0.49     17089\n",
      "weighted avg       1.00      0.92      0.96     17089\n",
      "\n"
     ]
    }
   ],
   "source": [
    "print(classification_report(error_df.true_class, y_pred3))"
   ]
  },
  {
   "cell_type": "code",
   "execution_count": 348,
   "id": "motivated-belgium",
   "metadata": {},
   "outputs": [],
   "source": [
    "from keras.models import Sequential\n",
    "from keras.layers import Dense, Dropout"
   ]
  },
  {
   "cell_type": "code",
   "execution_count": 349,
   "id": "attended-volume",
   "metadata": {},
   "outputs": [],
   "source": [
    "from sklearn.model_selection import train_test_split\n",
    "X = X.drop(['Time'],axis =1)\n",
    "X_train, X_test, y_train, y_test = train_test_split(X, y, test_size=0.3, random_state=42)\n",
    "# We are transforming data to numpy array to implementing with keras\n",
    "X_train = np.array(X_train)\n",
    "X_test = np.array(X_test)\n",
    "y_train = np.array(y_train)\n",
    "y_test = np.array(y_test)"
   ]
  },
  {
   "cell_type": "code",
   "execution_count": 350,
   "id": "patent-wagon",
   "metadata": {},
   "outputs": [],
   "source": [
    "# df = df.drop(['Time'],axis =1)\n",
    "# X_train, X_test = train_test_split(df, test_size=0.2, random_state=42)\n",
    "# X_train = X_train[X_train.Class == 0]\n",
    "# X_train = X_train.drop(['Class'], axis=1)\n",
    "# y_test = X_test['Class']\n",
    "# X_test = X_test.drop(['Class'], axis=1)\n",
    "# X_train = X_train.values\n",
    "# X_test = X_test.values\n",
    "# X_train.shape"
   ]
  },
  {
   "cell_type": "code",
   "execution_count": 351,
   "id": "trained-owner",
   "metadata": {},
   "outputs": [
    {
     "data": {
      "text/plain": [
       "(59809, 29)"
      ]
     },
     "execution_count": 351,
     "metadata": {},
     "output_type": "execute_result"
    }
   ],
   "source": [
    "X_train.shape"
   ]
  },
  {
   "cell_type": "code",
   "execution_count": 352,
   "id": "bibliographic-respect",
   "metadata": {},
   "outputs": [
    {
     "name": "stdout",
     "output_type": "stream",
     "text": [
      "Model: \"sequential_10\"\n",
      "_________________________________________________________________\n",
      "Layer (type)                 Output Shape              Param #   \n",
      "=================================================================\n",
      "dense_70 (Dense)             (None, 20)                600       \n",
      "_________________________________________________________________\n",
      "dense_71 (Dense)             (None, 24)                504       \n",
      "_________________________________________________________________\n",
      "dropout_10 (Dropout)         (None, 24)                0         \n",
      "_________________________________________________________________\n",
      "dense_72 (Dense)             (None, 20)                500       \n",
      "_________________________________________________________________\n",
      "dense_73 (Dense)             (None, 24)                504       \n",
      "_________________________________________________________________\n",
      "dense_74 (Dense)             (None, 1)                 25        \n",
      "=================================================================\n",
      "Total params: 2,133\n",
      "Trainable params: 2,133\n",
      "Non-trainable params: 0\n",
      "_________________________________________________________________\n"
     ]
    }
   ],
   "source": [
    "model = Sequential([\n",
    "    Dense(units=20, input_dim = X_train.shape[1], activation='relu'),\n",
    "    Dense(units=24,activation='relu'),\n",
    "    Dropout(0.5),\n",
    "    Dense(units=20,activation='relu'),\n",
    "    Dense(units=24,activation='relu'),\n",
    "    Dense(1, activation='sigmoid')\n",
    "])\n",
    "model.summary()"
   ]
  },
  {
   "cell_type": "code",
   "execution_count": 353,
   "id": "subjective-acrylic",
   "metadata": {},
   "outputs": [],
   "source": [
    "model.compile(loss='binary_crossentropy',optimizer='adam',metrics = ['accuracy'])"
   ]
  },
  {
   "cell_type": "code",
   "execution_count": 354,
   "id": "ranging-italian",
   "metadata": {
    "scrolled": false
   },
   "outputs": [
    {
     "name": "stdout",
     "output_type": "stream",
     "text": [
      "Epoch 1/50\n",
      "1870/1870 [==============================] - 2s 989us/step - loss: 0.0666 - accuracy: 0.9946\n",
      "Epoch 2/50\n",
      "1870/1870 [==============================] - 2s 953us/step - loss: 0.0144 - accuracy: 0.9984\n",
      "Epoch 3/50\n",
      "1870/1870 [==============================] - 2s 957us/step - loss: 0.0125 - accuracy: 0.9986\n",
      "Epoch 4/50\n",
      "1870/1870 [==============================] - 2s 1ms/step - loss: 0.0085 - accuracy: 0.9988\n",
      "Epoch 5/50\n",
      "1870/1870 [==============================] - 2s 1ms/step - loss: 0.0061 - accuracy: 0.9990\n",
      "Epoch 6/50\n",
      "1870/1870 [==============================] - 2s 1ms/step - loss: 0.0062 - accuracy: 0.9989\n",
      "Epoch 7/50\n",
      "1870/1870 [==============================] - 2s 1ms/step - loss: 0.0060 - accuracy: 0.9989\n",
      "Epoch 8/50\n",
      "1870/1870 [==============================] - 2s 1ms/step - loss: 0.0045 - accuracy: 0.9990\n",
      "Epoch 9/50\n",
      "1870/1870 [==============================] - 2s 994us/step - loss: 0.0039 - accuracy: 0.9991\n",
      "Epoch 10/50\n",
      "1870/1870 [==============================] - 2s 919us/step - loss: 0.0043 - accuracy: 0.9992\n",
      "Epoch 11/50\n",
      "1870/1870 [==============================] - 2s 1ms/step - loss: 0.0036 - accuracy: 0.9992\n",
      "Epoch 12/50\n",
      "1870/1870 [==============================] - 2s 1ms/step - loss: 0.0040 - accuracy: 0.9993\n",
      "Epoch 13/50\n",
      "1870/1870 [==============================] - 2s 947us/step - loss: 0.0038 - accuracy: 0.9992\n",
      "Epoch 14/50\n",
      "1870/1870 [==============================] - 2s 1ms/step - loss: 0.0040 - accuracy: 0.9993\n",
      "Epoch 15/50\n",
      "1870/1870 [==============================] - 2s 1ms/step - loss: 0.0032 - accuracy: 0.9993\n",
      "Epoch 16/50\n",
      "1870/1870 [==============================] - 2s 1ms/step - loss: 0.0037 - accuracy: 0.9992\n",
      "Epoch 17/50\n",
      "1870/1870 [==============================] - 2s 1ms/step - loss: 0.0036 - accuracy: 0.9993\n",
      "Epoch 18/50\n",
      "1870/1870 [==============================] - 2s 1ms/step - loss: 0.0042 - accuracy: 0.9992\n",
      "Epoch 19/50\n",
      "1870/1870 [==============================] - 2s 1ms/step - loss: 0.0045 - accuracy: 0.9993\n",
      "Epoch 20/50\n",
      "1870/1870 [==============================] - 2s 1ms/step - loss: 0.0036 - accuracy: 0.9994\n",
      "Epoch 21/50\n",
      "1870/1870 [==============================] - 2s 1ms/step - loss: 0.0032 - accuracy: 0.9992\n",
      "Epoch 22/50\n",
      "1870/1870 [==============================] - 2s 979us/step - loss: 0.0041 - accuracy: 0.9994\n",
      "Epoch 23/50\n",
      "1870/1870 [==============================] - 2s 963us/step - loss: 0.0036 - accuracy: 0.9993\n",
      "Epoch 24/50\n",
      "1870/1870 [==============================] - 2s 971us/step - loss: 0.0032 - accuracy: 0.9994\n",
      "Epoch 25/50\n",
      "1870/1870 [==============================] - 2s 964us/step - loss: 0.0028 - accuracy: 0.9994\n",
      "Epoch 26/50\n",
      "1870/1870 [==============================] - 2s 990us/step - loss: 0.0053 - accuracy: 0.9993\n",
      "Epoch 27/50\n",
      "1870/1870 [==============================] - 2s 990us/step - loss: 0.0030 - accuracy: 0.9994\n",
      "Epoch 28/50\n",
      "1870/1870 [==============================] - 2s 1ms/step - loss: 0.0025 - accuracy: 0.9994\n",
      "Epoch 29/50\n",
      "1870/1870 [==============================] - 2s 954us/step - loss: 0.0034 - accuracy: 0.9993\n",
      "Epoch 30/50\n",
      "1870/1870 [==============================] - 2s 955us/step - loss: 0.0034 - accuracy: 0.9992\n",
      "Epoch 31/50\n",
      "1870/1870 [==============================] - 2s 955us/step - loss: 0.0033 - accuracy: 0.9993\n",
      "Epoch 32/50\n",
      "1870/1870 [==============================] - 2s 972us/step - loss: 0.0031 - accuracy: 0.9994\n",
      "Epoch 33/50\n",
      "1870/1870 [==============================] - 2s 991us/step - loss: 0.0050 - accuracy: 0.9992\n",
      "Epoch 34/50\n",
      "1870/1870 [==============================] - 2s 968us/step - loss: 0.0020 - accuracy: 0.9994\n",
      "Epoch 35/50\n",
      "1870/1870 [==============================] - 2s 961us/step - loss: 0.0031 - accuracy: 0.9994\n",
      "Epoch 36/50\n",
      "1870/1870 [==============================] - 2s 970us/step - loss: 0.0031 - accuracy: 0.9993\n",
      "Epoch 37/50\n",
      "1870/1870 [==============================] - 2s 973us/step - loss: 0.0032 - accuracy: 0.9993\n",
      "Epoch 38/50\n",
      "1870/1870 [==============================] - 2s 947us/step - loss: 0.0023 - accuracy: 0.9995\n",
      "Epoch 39/50\n",
      "1870/1870 [==============================] - 2s 993us/step - loss: 0.0038 - accuracy: 0.9993\n",
      "Epoch 40/50\n",
      "1870/1870 [==============================] - 2s 961us/step - loss: 0.0024 - accuracy: 0.9995\n",
      "Epoch 41/50\n",
      "1870/1870 [==============================] - 2s 959us/step - loss: 0.0029 - accuracy: 0.9994\n",
      "Epoch 42/50\n",
      "1870/1870 [==============================] - 2s 941us/step - loss: 0.0028 - accuracy: 0.9995\n",
      "Epoch 43/50\n",
      "1870/1870 [==============================] - 2s 988us/step - loss: 0.0025 - accuracy: 0.9995\n",
      "Epoch 44/50\n",
      "1870/1870 [==============================] - 2s 961us/step - loss: 0.0038 - accuracy: 0.9993\n",
      "Epoch 45/50\n",
      "1870/1870 [==============================] - 2s 1ms/step - loss: 0.0026 - accuracy: 0.9995\n",
      "Epoch 46/50\n",
      "1870/1870 [==============================] - 2s 934us/step - loss: 0.0032 - accuracy: 0.9995\n",
      "Epoch 47/50\n",
      "1870/1870 [==============================] - 2s 921us/step - loss: 0.0024 - accuracy: 0.9996\n",
      "Epoch 48/50\n",
      "1870/1870 [==============================] - 2s 951us/step - loss: 0.0029 - accuracy: 0.9994\n",
      "Epoch 49/50\n",
      "1870/1870 [==============================] - 2s 952us/step - loss: 0.0037 - accuracy: 0.9995\n",
      "Epoch 50/50\n",
      "1870/1870 [==============================] - 2s 942us/step - loss: 0.0022 - accuracy: 0.9996\n"
     ]
    },
    {
     "data": {
      "text/plain": [
       "<tensorflow.python.keras.callbacks.History at 0x200b461e3c8>"
      ]
     },
     "execution_count": 354,
     "metadata": {},
     "output_type": "execute_result"
    }
   ],
   "source": [
    "nb_epoch = 50\n",
    "model.fit(X_train,y_train,epochs=nb_epoch,batch_size = batch_size)"
   ]
  },
  {
   "cell_type": "code",
   "execution_count": 355,
   "id": "regular-mixture",
   "metadata": {},
   "outputs": [],
   "source": [
    "pred1 = model.predict(X_test)"
   ]
  },
  {
   "cell_type": "code",
   "execution_count": 356,
   "id": "modern-vermont",
   "metadata": {},
   "outputs": [
    {
     "data": {
      "text/plain": [
       "array([1.7049921e-25], dtype=float32)"
      ]
     },
     "execution_count": 356,
     "metadata": {},
     "output_type": "execute_result"
    }
   ],
   "source": [
    "pred1[1]"
   ]
  },
  {
   "cell_type": "code",
   "execution_count": 357,
   "id": "continental-industry",
   "metadata": {},
   "outputs": [],
   "source": [
    "# mse = np.mean(np.power(X_test - pred, 2), axis=1)\n",
    "# error_df = pd.DataFrame({'reconstruction_error': mse,\n",
    "#                         'true_class': y_test})\n",
    "# error_df"
   ]
  },
  {
   "cell_type": "code",
   "execution_count": 358,
   "id": "wanted-wings",
   "metadata": {},
   "outputs": [],
   "source": [
    "# threshold = 2.9\n",
    "# y_pred = [1 if e > threshold else 0 for e in error_df.reconstruction_error.values]\n",
    "# conf_matrix = confusion_matrix(error_df.true_class, y_pred)"
   ]
  },
  {
   "cell_type": "code",
   "execution_count": 359,
   "id": "limiting-running",
   "metadata": {},
   "outputs": [
    {
     "name": "stdout",
     "output_type": "stream",
     "text": [
      "802/802 [==============================] - 1s 783us/step - loss: 0.0054 - accuracy: 0.9994\n"
     ]
    },
    {
     "data": {
      "text/plain": [
       "[0.005445272196084261, 0.9994148015975952]"
      ]
     },
     "execution_count": 359,
     "metadata": {},
     "output_type": "execute_result"
    }
   ],
   "source": [
    "model.evaluate(X_test,y_test)"
   ]
  },
  {
   "cell_type": "code",
   "execution_count": 360,
   "id": "vocal-range",
   "metadata": {},
   "outputs": [
    {
     "data": {
      "text/plain": [
       "0.9994148168376702"
      ]
     },
     "execution_count": 360,
     "metadata": {},
     "output_type": "execute_result"
    }
   ],
   "source": [
    "nnac = accuracy_score(y_test,pred1.round())\n",
    "nnac"
   ]
  },
  {
   "cell_type": "code",
   "execution_count": 361,
   "id": "fitted-consortium",
   "metadata": {},
   "outputs": [
    {
     "data": {
      "text/plain": [
       "0.9047619047619048"
      ]
     },
     "execution_count": 361,
     "metadata": {},
     "output_type": "execute_result"
    }
   ],
   "source": [
    "nnpre = precision_score(y_test,pred1.round())\n",
    "nnpre"
   ]
  },
  {
   "cell_type": "code",
   "execution_count": 362,
   "id": "better-burton",
   "metadata": {},
   "outputs": [
    {
     "data": {
      "text/plain": [
       "0.7755102040816326"
      ]
     },
     "execution_count": 362,
     "metadata": {},
     "output_type": "execute_result"
    }
   ],
   "source": [
    "nnre = recall_score(y_test,pred1.round())\n",
    "nnre"
   ]
  },
  {
   "cell_type": "code",
   "execution_count": 363,
   "id": "successful-performer",
   "metadata": {},
   "outputs": [
    {
     "name": "stdout",
     "output_type": "stream",
     "text": [
      "              precision    recall  f1-score   support\n",
      "\n",
      "           0       1.00      1.00      1.00     25584\n",
      "           1       0.90      0.78      0.84        49\n",
      "\n",
      "    accuracy                           1.00     25633\n",
      "   macro avg       0.95      0.89      0.92     25633\n",
      "weighted avg       1.00      1.00      1.00     25633\n",
      "\n"
     ]
    }
   ],
   "source": [
    "print(classification_report(y_test,pred1.round()))"
   ]
  },
  {
   "cell_type": "code",
   "execution_count": 369,
   "id": "dominican-music",
   "metadata": {},
   "outputs": [
    {
     "data": {
      "text/html": [
       "<div>\n",
       "<style scoped>\n",
       "    .dataframe tbody tr th:only-of-type {\n",
       "        vertical-align: middle;\n",
       "    }\n",
       "\n",
       "    .dataframe tbody tr th {\n",
       "        vertical-align: top;\n",
       "    }\n",
       "\n",
       "    .dataframe thead th {\n",
       "        text-align: right;\n",
       "    }\n",
       "</style>\n",
       "<table border=\"1\" class=\"dataframe\">\n",
       "  <thead>\n",
       "    <tr style=\"text-align: right;\">\n",
       "      <th></th>\n",
       "      <th>Models</th>\n",
       "      <th>Accuracy</th>\n",
       "      <th>Precision</th>\n",
       "      <th>Recall</th>\n",
       "    </tr>\n",
       "  </thead>\n",
       "  <tbody>\n",
       "    <tr>\n",
       "      <th>0</th>\n",
       "      <td>Local Outlier Factor</td>\n",
       "      <td>99.665270</td>\n",
       "      <td>15.384615</td>\n",
       "      <td>15.384615</td>\n",
       "    </tr>\n",
       "    <tr>\n",
       "      <th>1</th>\n",
       "      <td>Isolation Forest</td>\n",
       "      <td>99.749538</td>\n",
       "      <td>36.686391</td>\n",
       "      <td>36.686391</td>\n",
       "    </tr>\n",
       "    <tr>\n",
       "      <th>2</th>\n",
       "      <td>K-Means Clustering</td>\n",
       "      <td>97.802018</td>\n",
       "      <td>0.749280</td>\n",
       "      <td>7.692308</td>\n",
       "    </tr>\n",
       "    <tr>\n",
       "      <th>3</th>\n",
       "      <td>Auto Encoder</td>\n",
       "      <td>91.901223</td>\n",
       "      <td>1.571429</td>\n",
       "      <td>78.571429</td>\n",
       "    </tr>\n",
       "    <tr>\n",
       "      <th>4</th>\n",
       "      <td>Neural Networks</td>\n",
       "      <td>99.941482</td>\n",
       "      <td>90.476190</td>\n",
       "      <td>77.551020</td>\n",
       "    </tr>\n",
       "  </tbody>\n",
       "</table>\n",
       "</div>"
      ],
      "text/plain": [
       "                 Models   Accuracy  Precision     Recall\n",
       "0  Local Outlier Factor  99.665270  15.384615  15.384615\n",
       "1      Isolation Forest  99.749538  36.686391  36.686391\n",
       "2    K-Means Clustering  97.802018   0.749280   7.692308\n",
       "3          Auto Encoder  91.901223   1.571429  78.571429\n",
       "4       Neural Networks  99.941482  90.476190  77.551020"
      ]
     },
     "execution_count": 369,
     "metadata": {},
     "output_type": "execute_result"
    }
   ],
   "source": [
    "graph = pd.DataFrame({'Models':['Local Outlier Factor','Isolation Forest','K-Means Clustering','Auto Encoder','Neural Networks'],'Accuracy':[lofac*100,isofacc*100,kacc*100,aeacc*100,nnac*100],'Precision':[lofpre*100,isofpre*100,kpre*100,\n",
    "                                    aepre*100,nnpre*100],'Recall':[lofre*100,isofre*100,kre*100,aere*100,nnre*100]})\n",
    "graph"
   ]
  },
  {
   "cell_type": "code",
   "execution_count": 378,
   "id": "affecting-feedback",
   "metadata": {},
   "outputs": [
    {
     "data": {
      "image/png": "[encoded data removed]",
      "text/plain": [
       "<Figure size 720x432 with 1 Axes>"
      ]
     },
     "metadata": {
      "needs_background": "light"
     },
     "output_type": "display_data"
    }
   ],
   "source": [
    "plt.figure(figsize = (10,6))\n",
    "sns.barplot(y = graph.Precision,x = graph.Models)\n",
    "plt.xticks(rotation = 'vertical')\n",
    "plt.show()"
   ]
  },
  {
   "cell_type": "code",
   "execution_count": 379,
   "id": "civil-auckland",
   "metadata": {},
   "outputs": [
    {
     "data": {
      "image/png": "[encoded data removed]",
      "text/plain": [
       "<Figure size 720x432 with 1 Axes>"
      ]
     },
     "metadata": {
      "needs_background": "light"
     },
     "output_type": "display_data"
    }
   ],
   "source": [
    "plt.figure(figsize = (10,6))\n",
    "sns.barplot(y = graph.Recall,x = graph.Models)\n",
    "plt.xticks(rotation = 'vertical')\n",
    "plt.show()"
   ]
  },
  {
   "cell_type": "code",
   "execution_count": 380,
   "id": "simplified-beast",
   "metadata": {},
   "outputs": [
    {
     "data": {
      "image/png": "[encoded data removed]",
      "text/plain": [
       "<Figure size 720x432 with 1 Axes>"
      ]
     },
     "metadata": {
      "needs_background": "light"
     },
     "output_type": "display_data"
    }
   ],
   "source": [
    "plt.figure(figsize = (10,6))\n",
    "sns.barplot(y = graph.Accuracy,x = graph.Models)\n",
    "plt.xticks(rotation = 'vertical')\n",
    "plt.show()"
   ]
  },
  {
   "cell_type": "code",
   "execution_count": null,
   "id": "sorted-teddy",
   "metadata": {},
   "outputs": [],
   "source": []
  }
 ],
 "metadata": {
  "kernelspec": {
   "display_name": "Python 3",
   "language": "python",
   "name": "python3"
  },
  "language_info": {
   "codemirror_mode": {
    "name": "ipython",
    "version": 3
   },
   "file_extension": ".py",
   "mimetype": "text/x-python",
   "name": "python",
   "nbconvert_exporter": "python",
   "pygments_lexer": "ipython3",
   "version": "3.7.4"
  }
 },
 "nbformat": 4,
 "nbformat_minor": 5
}
